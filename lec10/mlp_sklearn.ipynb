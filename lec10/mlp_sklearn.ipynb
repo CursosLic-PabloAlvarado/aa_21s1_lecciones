{
 "cells": [
  {
   "cell_type": "code",
   "execution_count": null,
   "metadata": {},
   "outputs": [],
   "source": [
    "%matplotlib inline"
   ]
  },
  {
   "cell_type": "markdown",
   "metadata": {},
   "source": [
    "\n",
    "# MLPClassifier\n",
    "\n",
    "(C) 2021 Pablo Alvarado<br/>\n",
    "EL5857 Aprendizaje Automático<br/>\n",
    "Escuela de Electrónica<br/>\n",
    "Tecnológico de Costa Rica<br/>\n",
    "\n",
    "This example shows the simplest case for a neural network with Scikit-Learn. \n",
    "\n",
    "MLP stands for _Multilayer Perceptron_, which was the original idea from the times of Rosenblatt, which some people still use to refer to simple neural networks.\n"
   ]
  },
  {
   "cell_type": "code",
   "execution_count": null,
   "metadata": {},
   "outputs": [],
   "source": [
    "import warnings\n",
    "\n",
    "import matplotlib.pyplot as plt\n",
    "\n",
    "from sklearn.neural_network import MLPClassifier\n",
    "from sklearn.preprocessing import StandardScaler\n",
    "from sklearn import datasets\n",
    "from sklearn.exceptions import ConvergenceWarning"
   ]
  },
  {
   "cell_type": "code",
   "execution_count": null,
   "metadata": {},
   "outputs": [],
   "source": [
    "# Load the iris dataset\n",
    "iris = datasets.load_iris()"
   ]
  },
  {
   "cell_type": "code",
   "execution_count": null,
   "metadata": {},
   "outputs": [],
   "source": [
    "# IMPORTANT: Always normalize the data\n",
    "scaler=StandardScaler()\n",
    "X=scaler.fit_transform(iris.data)\n",
    "y=iris.target"
   ]
  },
  {
   "cell_type": "code",
   "execution_count": null,
   "metadata": {},
   "outputs": [],
   "source": [
    "# Create and train the MLPClassifier\n",
    "mlp = MLPClassifier(random_state=0,\n",
    "                    max_iter=400,\n",
    "                    solver='sgd',\n",
    "                    learning_rate='constant',\n",
    "                    momentum=0,\n",
    "                    learning_rate_init=0.2)\n",
    "mlp.fit(X,y)"
   ]
  },
  {
   "cell_type": "code",
   "execution_count": null,
   "metadata": {},
   "outputs": [],
   "source": [
    "# Some results\n",
    "print(\"Training set score: %f\" % mlp.score(X, y))\n",
    "print(\"Training set loss: %f\" % mlp.loss_)\n",
    "\n",
    "plt.plot(mlp.loss_curve_)"
   ]
  },
  {
   "cell_type": "code",
   "execution_count": null,
   "metadata": {},
   "outputs": [],
   "source": []
  }
 ],
 "metadata": {
  "kernelspec": {
   "display_name": "Python 3",
   "language": "python",
   "name": "python3"
  },
  "language_info": {
   "codemirror_mode": {
    "name": "ipython",
    "version": 3
   },
   "file_extension": ".py",
   "mimetype": "text/x-python",
   "name": "python",
   "nbconvert_exporter": "python",
   "pygments_lexer": "ipython3",
   "version": "3.8.5"
  }
 },
 "nbformat": 4,
 "nbformat_minor": 1
}
