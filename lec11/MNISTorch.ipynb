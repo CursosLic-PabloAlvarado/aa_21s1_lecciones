{
 "cells": [
  {
   "cell_type": "code",
   "execution_count": 1,
   "metadata": {},
   "outputs": [],
   "source": [
    "%matplotlib inline"
   ]
  },
  {
   "cell_type": "markdown",
   "metadata": {},
   "source": [
    "# MNIST with Torch\n",
    "\n",
    "Original source: https://nextjournal.com/gkoehler/pytorch-mnist"
   ]
  },
  {
   "cell_type": "code",
   "execution_count": 2,
   "metadata": {},
   "outputs": [],
   "source": [
    "import torch\n",
    "import torchvision\n",
    "import numpy as np\n",
    "import os"
   ]
  },
  {
   "cell_type": "code",
   "execution_count": 3,
   "metadata": {},
   "outputs": [
    {
     "data": {
      "text/plain": [
       "<torch._C.Generator at 0x7f7299d5aa90>"
      ]
     },
     "execution_count": 3,
     "metadata": {},
     "output_type": "execute_result"
    }
   ],
   "source": [
    "n_epochs = 3\n",
    "batch_size_train = 64\n",
    "batch_size_test = 1000\n",
    "learning_rate = 0.01\n",
    "momentum = 0.5\n",
    "log_interval = 10\n",
    "\n",
    "random_seed = 1\n",
    "torch.backends.cudnn.enabled = False\n",
    "torch.manual_seed(random_seed)"
   ]
  },
  {
   "cell_type": "code",
   "execution_count": 4,
   "metadata": {},
   "outputs": [],
   "source": [
    "train_loader = torch.utils.data.DataLoader(\n",
    "  torchvision.datasets.MNIST('./files/', train=True, download=True,\n",
    "                             transform=torchvision.transforms.Compose([\n",
    "                               torchvision.transforms.ToTensor(),\n",
    "                               torchvision.transforms.Normalize(\n",
    "                                 (0.1307,), (0.3081,))\n",
    "                             ])),\n",
    "  batch_size=batch_size_train, shuffle=True)\n",
    "\n",
    "test_loader = torch.utils.data.DataLoader(\n",
    "  torchvision.datasets.MNIST('./files/', train=False, download=True,\n",
    "                             transform=torchvision.transforms.Compose([\n",
    "                               torchvision.transforms.ToTensor(),\n",
    "                               torchvision.transforms.Normalize(\n",
    "                                 (0.1307,), (0.3081,))\n",
    "                             ])),\n",
    "  batch_size=batch_size_test, shuffle=True)"
   ]
  },
  {
   "cell_type": "code",
   "execution_count": 5,
   "metadata": {},
   "outputs": [
    {
     "data": {
      "text/plain": [
       "torch.Size([1000, 1, 28, 28])"
      ]
     },
     "execution_count": 5,
     "metadata": {},
     "output_type": "execute_result"
    }
   ],
   "source": [
    "examples = enumerate(test_loader)\n",
    "batch_idx, (example_data, example_targets) = next(examples)\n",
    "\n",
    "example_data.shape"
   ]
  },
  {
   "cell_type": "code",
   "execution_count": 6,
   "metadata": {},
   "outputs": [
    {
     "data": {
      "image/png": "[encoded data removed]",
      "text/plain": [
       "<Figure size 432x288 with 15 Axes>"
      ]
     },
     "metadata": {},
     "output_type": "display_data"
    }
   ],
   "source": [
    "import matplotlib.pyplot as plt\n",
    "\n",
    "fig = plt.figure()\n",
    "rows=3\n",
    "cols=5\n",
    "for i in range(rows*cols):\n",
    "  plt.subplot(rows,cols,i+1)\n",
    "  plt.tight_layout()\n",
    "  idx=np.random.randint(example_data.shape[0])\n",
    "  plt.imshow(example_data[idx][0], cmap='gray', interpolation='none')\n",
    "  plt.title(\"GT: {}\".format(example_targets[idx]))\n",
    "  plt.xticks([])\n",
    "  plt.yticks([])\n"
   ]
  },
  {
   "cell_type": "markdown",
   "metadata": {},
   "source": [
    "# Building the network"
   ]
  },
  {
   "cell_type": "code",
   "execution_count": 7,
   "metadata": {},
   "outputs": [],
   "source": [
    "import torch.nn as nn\n",
    "import torch.nn.functional as F\n",
    "import torch.optim as optim"
   ]
  },
  {
   "cell_type": "code",
   "execution_count": 8,
   "metadata": {},
   "outputs": [],
   "source": [
    "class Net(nn.Module):\n",
    "    def __init__(self):\n",
    "        super(Net, self).__init__()\n",
    "        self.conv1 = nn.Conv2d(1, 10, kernel_size=5)\n",
    "        self.conv2 = nn.Conv2d(10, 20, kernel_size=5)\n",
    "        self.conv2_drop = nn.Dropout2d()\n",
    "        self.fc1 = nn.Linear(320, 50)\n",
    "        self.fc2 = nn.Linear(50, 10)\n",
    "\n",
    "    def forward(self, x):\n",
    "        x = F.relu(F.max_pool2d(self.conv1(x), 2))\n",
    "        x = F.relu(F.max_pool2d(self.conv2_drop(self.conv2(x)), 2))\n",
    "        x = x.view(-1, 320)\n",
    "        x = F.relu(self.fc1(x))\n",
    "        x = F.dropout(x, training=self.training)\n",
    "        x = self.fc2(x)\n",
    "        return F.log_softmax(x,dim=-1)"
   ]
  },
  {
   "cell_type": "code",
   "execution_count": 9,
   "metadata": {},
   "outputs": [],
   "source": [
    "network = Net()\n",
    "optimizer = optim.SGD(network.parameters(), lr=learning_rate,\n",
    "                      momentum=momentum)"
   ]
  },
  {
   "cell_type": "code",
   "execution_count": 10,
   "metadata": {},
   "outputs": [],
   "source": [
    "train_losses = []\n",
    "train_counter = []\n",
    "test_losses = []\n",
    "test_counter = [i*len(train_loader.dataset) for i in range(n_epochs + 1)]"
   ]
  },
  {
   "cell_type": "code",
   "execution_count": 11,
   "metadata": {},
   "outputs": [],
   "source": [
    "def train(epoch):\n",
    "    \n",
    "  resdir=\"./results\"\n",
    "  if not os.path.exists(resdir):\n",
    "    os.makedirs(resdir)  \n",
    "    \n",
    "  network.train()\n",
    "  for batch_idx, (data, target) in enumerate(train_loader):\n",
    "    optimizer.zero_grad()\n",
    "    output = network(data)\n",
    "    loss = F.nll_loss(output, target)\n",
    "    loss.backward()\n",
    "    optimizer.step()\n",
    "    if batch_idx % log_interval == 0:\n",
    "      print('Train Epoch: {} [{}/{} ({:.0f}%)]\\tLoss: {:.6f}'.format(\n",
    "        epoch, batch_idx * len(data), len(train_loader.dataset),\n",
    "        100. * batch_idx / len(train_loader), loss.item()))\n",
    "      train_losses.append(loss.item())\n",
    "      train_counter.append(\n",
    "        (batch_idx*64) + ((epoch-1)*len(train_loader.dataset)))\n",
    "      torch.save(network.state_dict(), os.path.join(resdir,'model.pth'))\n",
    "      torch.save(optimizer.state_dict(), os.path.join(resdir,'optimizer.pth'))"
   ]
  },
  {
   "cell_type": "code",
   "execution_count": 12,
   "metadata": {},
   "outputs": [],
   "source": [
    "def test():\n",
    "  network.eval()\n",
    "  test_loss = 0\n",
    "  correct = 0\n",
    "  with torch.no_grad():\n",
    "    for data, target in test_loader:\n",
    "      output = network(data)\n",
    "      test_loss += F.nll_loss(output, target, reduction='sum').item()\n",
    "      pred = output.data.max(1, keepdim=True)[1]\n",
    "      correct += pred.eq(target.data.view_as(pred)).sum()\n",
    "  test_loss /= len(test_loader.dataset)\n",
    "  test_losses.append(test_loss)\n",
    "  print('\\nTest set: Avg. loss: {:.4f}, Accuracy: {}/{} ({:.0f}%)\\n'.format(\n",
    "    test_loss, correct, len(test_loader.dataset),\n",
    "    100. * correct / len(test_loader.dataset)))"
   ]
  },
  {
   "cell_type": "code",
   "execution_count": 13,
   "metadata": {},
   "outputs": [
    {
     "name": "stdout",
     "output_type": "stream",
     "text": [
      "\n",
      "Test set: Avg. loss: 2.3004, Accuracy: 751/10000 (8%)\n",
      "\n",
      "Train Epoch: 1 [0/60000 (0%)]\tLoss: 2.268458\n",
      "Train Epoch: 1 [640/60000 (1%)]\tLoss: 2.268337\n",
      "Train Epoch: 1 [1280/60000 (2%)]\tLoss: 2.273999\n",
      "Train Epoch: 1 [1920/60000 (3%)]\tLoss: 2.251667\n",
      "Train Epoch: 1 [2560/60000 (4%)]\tLoss: 2.236732\n",
      "Train Epoch: 1 [3200/60000 (5%)]\tLoss: 2.223633\n",
      "Train Epoch: 1 [3840/60000 (6%)]\tLoss: 2.152995\n",
      "Train Epoch: 1 [4480/60000 (7%)]\tLoss: 2.095961\n",
      "Train Epoch: 1 [5120/60000 (9%)]\tLoss: 1.974670\n",
      "Train Epoch: 1 [5760/60000 (10%)]\tLoss: 1.946428\n",
      "Train Epoch: 1 [6400/60000 (11%)]\tLoss: 1.842246\n",
      "Train Epoch: 1 [7040/60000 (12%)]\tLoss: 1.767323\n",
      "Train Epoch: 1 [7680/60000 (13%)]\tLoss: 1.699912\n",
      "Train Epoch: 1 [8320/60000 (14%)]\tLoss: 1.689073\n",
      "Train Epoch: 1 [8960/60000 (15%)]\tLoss: 1.507141\n",
      "Train Epoch: 1 [9600/60000 (16%)]\tLoss: 1.390703\n",
      "Train Epoch: 1 [10240/60000 (17%)]\tLoss: 1.281484\n",
      "Train Epoch: 1 [10880/60000 (18%)]\tLoss: 1.332465\n",
      "Train Epoch: 1 [11520/60000 (19%)]\tLoss: 1.285035\n",
      "Train Epoch: 1 [12160/60000 (20%)]\tLoss: 1.245259\n",
      "Train Epoch: 1 [12800/60000 (21%)]\tLoss: 0.923154\n",
      "Train Epoch: 1 [13440/60000 (22%)]\tLoss: 1.390134\n",
      "Train Epoch: 1 [14080/60000 (23%)]\tLoss: 0.969999\n",
      "Train Epoch: 1 [14720/60000 (25%)]\tLoss: 1.103130\n",
      "Train Epoch: 1 [15360/60000 (26%)]\tLoss: 0.950313\n",
      "Train Epoch: 1 [16000/60000 (27%)]\tLoss: 1.057596\n",
      "Train Epoch: 1 [16640/60000 (28%)]\tLoss: 0.938182\n",
      "Train Epoch: 1 [17280/60000 (29%)]\tLoss: 0.818720\n",
      "Train Epoch: 1 [17920/60000 (30%)]\tLoss: 1.116202\n",
      "Train Epoch: 1 [18560/60000 (31%)]\tLoss: 0.638900\n",
      "Train Epoch: 1 [19200/60000 (32%)]\tLoss: 0.933168\n",
      "Train Epoch: 1 [19840/60000 (33%)]\tLoss: 0.790657\n",
      "Train Epoch: 1 [20480/60000 (34%)]\tLoss: 0.802794\n",
      "Train Epoch: 1 [21120/60000 (35%)]\tLoss: 0.759867\n",
      "Train Epoch: 1 [21760/60000 (36%)]\tLoss: 0.940233\n",
      "Train Epoch: 1 [22400/60000 (37%)]\tLoss: 0.612295\n",
      "Train Epoch: 1 [23040/60000 (38%)]\tLoss: 0.850117\n",
      "Train Epoch: 1 [23680/60000 (39%)]\tLoss: 0.645317\n",
      "Train Epoch: 1 [24320/60000 (41%)]\tLoss: 0.801940\n",
      "Train Epoch: 1 [24960/60000 (42%)]\tLoss: 0.845372\n",
      "Train Epoch: 1 [25600/60000 (43%)]\tLoss: 0.774501\n",
      "Train Epoch: 1 [26240/60000 (44%)]\tLoss: 0.729443\n",
      "Train Epoch: 1 [26880/60000 (45%)]\tLoss: 0.764497\n",
      "Train Epoch: 1 [27520/60000 (46%)]\tLoss: 0.733788\n",
      "Train Epoch: 1 [28160/60000 (47%)]\tLoss: 0.768474\n",
      "Train Epoch: 1 [28800/60000 (48%)]\tLoss: 0.707049\n",
      "Train Epoch: 1 [29440/60000 (49%)]\tLoss: 0.648410\n",
      "Train Epoch: 1 [30080/60000 (50%)]\tLoss: 1.033216\n",
      "Train Epoch: 1 [30720/60000 (51%)]\tLoss: 0.654122\n",
      "Train Epoch: 1 [31360/60000 (52%)]\tLoss: 0.896215\n",
      "Train Epoch: 1 [32000/60000 (53%)]\tLoss: 0.711947\n",
      "Train Epoch: 1 [32640/60000 (54%)]\tLoss: 0.702171\n",
      "Train Epoch: 1 [33280/60000 (55%)]\tLoss: 0.571162\n",
      "Train Epoch: 1 [33920/60000 (57%)]\tLoss: 0.466969\n",
      "Train Epoch: 1 [34560/60000 (58%)]\tLoss: 0.775914\n",
      "Train Epoch: 1 [35200/60000 (59%)]\tLoss: 0.470944\n",
      "Train Epoch: 1 [35840/60000 (60%)]\tLoss: 0.752212\n",
      "Train Epoch: 1 [36480/60000 (61%)]\tLoss: 0.335097\n",
      "Train Epoch: 1 [37120/60000 (62%)]\tLoss: 0.403474\n",
      "Train Epoch: 1 [37760/60000 (63%)]\tLoss: 0.585739\n",
      "Train Epoch: 1 [38400/60000 (64%)]\tLoss: 0.727724\n",
      "Train Epoch: 1 [39040/60000 (65%)]\tLoss: 0.434198\n",
      "Train Epoch: 1 [39680/60000 (66%)]\tLoss: 0.476652\n",
      "Train Epoch: 1 [40320/60000 (67%)]\tLoss: 0.580515\n",
      "Train Epoch: 1 [40960/60000 (68%)]\tLoss: 0.462124\n",
      "Train Epoch: 1 [41600/60000 (69%)]\tLoss: 0.411883\n",
      "Train Epoch: 1 [42240/60000 (70%)]\tLoss: 0.580916\n",
      "Train Epoch: 1 [42880/60000 (71%)]\tLoss: 0.618398\n",
      "Train Epoch: 1 [43520/60000 (72%)]\tLoss: 0.586823\n",
      "Train Epoch: 1 [44160/60000 (74%)]\tLoss: 0.487785\n",
      "Train Epoch: 1 [44800/60000 (75%)]\tLoss: 0.585919\n",
      "Train Epoch: 1 [45440/60000 (76%)]\tLoss: 0.707538\n",
      "Train Epoch: 1 [46080/60000 (77%)]\tLoss: 0.563445\n",
      "Train Epoch: 1 [46720/60000 (78%)]\tLoss: 0.869682\n",
      "Train Epoch: 1 [47360/60000 (79%)]\tLoss: 0.383210\n",
      "Train Epoch: 1 [48000/60000 (80%)]\tLoss: 0.448436\n",
      "Train Epoch: 1 [48640/60000 (81%)]\tLoss: 0.334488\n",
      "Train Epoch: 1 [49280/60000 (82%)]\tLoss: 0.578425\n",
      "Train Epoch: 1 [49920/60000 (83%)]\tLoss: 0.359158\n",
      "Train Epoch: 1 [50560/60000 (84%)]\tLoss: 0.373251\n",
      "Train Epoch: 1 [51200/60000 (85%)]\tLoss: 0.780130\n",
      "Train Epoch: 1 [51840/60000 (86%)]\tLoss: 0.457017\n",
      "Train Epoch: 1 [52480/60000 (87%)]\tLoss: 0.646099\n",
      "Train Epoch: 1 [53120/60000 (88%)]\tLoss: 0.756574\n",
      "Train Epoch: 1 [53760/60000 (90%)]\tLoss: 0.553907\n",
      "Train Epoch: 1 [54400/60000 (91%)]\tLoss: 0.448670\n",
      "Train Epoch: 1 [55040/60000 (92%)]\tLoss: 0.713732\n",
      "Train Epoch: 1 [55680/60000 (93%)]\tLoss: 0.459579\n",
      "Train Epoch: 1 [56320/60000 (94%)]\tLoss: 0.538033\n",
      "Train Epoch: 1 [56960/60000 (95%)]\tLoss: 0.551386\n",
      "Train Epoch: 1 [57600/60000 (96%)]\tLoss: 0.331603\n",
      "Train Epoch: 1 [58240/60000 (97%)]\tLoss: 0.482071\n",
      "Train Epoch: 1 [58880/60000 (98%)]\tLoss: 0.340938\n",
      "Train Epoch: 1 [59520/60000 (99%)]\tLoss: 0.469604\n",
      "\n",
      "Test set: Avg. loss: 0.1974, Accuracy: 9434/10000 (94%)\n",
      "\n",
      "Train Epoch: 2 [0/60000 (0%)]\tLoss: 0.570056\n",
      "Train Epoch: 2 [640/60000 (1%)]\tLoss: 0.301094\n",
      "Train Epoch: 2 [1280/60000 (2%)]\tLoss: 0.375730\n",
      "Train Epoch: 2 [1920/60000 (3%)]\tLoss: 0.275190\n",
      "Train Epoch: 2 [2560/60000 (4%)]\tLoss: 0.475290\n",
      "Train Epoch: 2 [3200/60000 (5%)]\tLoss: 0.668195\n",
      "Train Epoch: 2 [3840/60000 (6%)]\tLoss: 0.521596\n",
      "Train Epoch: 2 [4480/60000 (7%)]\tLoss: 0.454396\n",
      "Train Epoch: 2 [5120/60000 (9%)]\tLoss: 0.389630\n",
      "Train Epoch: 2 [5760/60000 (10%)]\tLoss: 0.477840\n",
      "Train Epoch: 2 [6400/60000 (11%)]\tLoss: 0.529348\n",
      "Train Epoch: 2 [7040/60000 (12%)]\tLoss: 0.404744\n",
      "Train Epoch: 2 [7680/60000 (13%)]\tLoss: 0.308950\n",
      "Train Epoch: 2 [8320/60000 (14%)]\tLoss: 0.367484\n",
      "Train Epoch: 2 [8960/60000 (15%)]\tLoss: 0.403499\n",
      "Train Epoch: 2 [9600/60000 (16%)]\tLoss: 0.399213\n",
      "Train Epoch: 2 [10240/60000 (17%)]\tLoss: 0.386273\n",
      "Train Epoch: 2 [10880/60000 (18%)]\tLoss: 0.590236\n",
      "Train Epoch: 2 [11520/60000 (19%)]\tLoss: 0.564343\n",
      "Train Epoch: 2 [12160/60000 (20%)]\tLoss: 0.504526\n",
      "Train Epoch: 2 [12800/60000 (21%)]\tLoss: 0.397571\n",
      "Train Epoch: 2 [13440/60000 (22%)]\tLoss: 0.479763\n",
      "Train Epoch: 2 [14080/60000 (23%)]\tLoss: 0.361073\n",
      "Train Epoch: 2 [14720/60000 (25%)]\tLoss: 0.333938\n",
      "Train Epoch: 2 [15360/60000 (26%)]\tLoss: 0.567053\n",
      "Train Epoch: 2 [16000/60000 (27%)]\tLoss: 0.388327\n",
      "Train Epoch: 2 [16640/60000 (28%)]\tLoss: 0.521779\n",
      "Train Epoch: 2 [17280/60000 (29%)]\tLoss: 0.389004\n",
      "Train Epoch: 2 [17920/60000 (30%)]\tLoss: 0.349926\n",
      "Train Epoch: 2 [18560/60000 (31%)]\tLoss: 0.387582\n",
      "Train Epoch: 2 [19200/60000 (32%)]\tLoss: 0.482050\n",
      "Train Epoch: 2 [19840/60000 (33%)]\tLoss: 0.345840\n",
      "Train Epoch: 2 [20480/60000 (34%)]\tLoss: 0.384579\n",
      "Train Epoch: 2 [21120/60000 (35%)]\tLoss: 0.702865\n",
      "Train Epoch: 2 [21760/60000 (36%)]\tLoss: 0.386775\n",
      "Train Epoch: 2 [22400/60000 (37%)]\tLoss: 0.420534\n",
      "Train Epoch: 2 [23040/60000 (38%)]\tLoss: 0.458628\n",
      "Train Epoch: 2 [23680/60000 (39%)]\tLoss: 0.417095\n",
      "Train Epoch: 2 [24320/60000 (41%)]\tLoss: 0.350406\n",
      "Train Epoch: 2 [24960/60000 (42%)]\tLoss: 0.332332\n",
      "Train Epoch: 2 [25600/60000 (43%)]\tLoss: 0.446797\n",
      "Train Epoch: 2 [26240/60000 (44%)]\tLoss: 0.323460\n",
      "Train Epoch: 2 [26880/60000 (45%)]\tLoss: 0.418794\n",
      "Train Epoch: 2 [27520/60000 (46%)]\tLoss: 0.370063\n",
      "Train Epoch: 2 [28160/60000 (47%)]\tLoss: 0.308743\n",
      "Train Epoch: 2 [28800/60000 (48%)]\tLoss: 0.425694\n",
      "Train Epoch: 2 [29440/60000 (49%)]\tLoss: 0.431491\n",
      "Train Epoch: 2 [30080/60000 (50%)]\tLoss: 0.620301\n",
      "Train Epoch: 2 [30720/60000 (51%)]\tLoss: 0.340806\n",
      "Train Epoch: 2 [31360/60000 (52%)]\tLoss: 0.372521\n",
      "Train Epoch: 2 [32000/60000 (53%)]\tLoss: 0.444032\n",
      "Train Epoch: 2 [32640/60000 (54%)]\tLoss: 0.330330\n",
      "Train Epoch: 2 [33280/60000 (55%)]\tLoss: 0.279139\n",
      "Train Epoch: 2 [33920/60000 (57%)]\tLoss: 0.363546\n",
      "Train Epoch: 2 [34560/60000 (58%)]\tLoss: 0.425274\n",
      "Train Epoch: 2 [35200/60000 (59%)]\tLoss: 0.640676\n",
      "Train Epoch: 2 [35840/60000 (60%)]\tLoss: 0.254934\n",
      "Train Epoch: 2 [36480/60000 (61%)]\tLoss: 0.495646\n",
      "Train Epoch: 2 [37120/60000 (62%)]\tLoss: 0.385260\n",
      "Train Epoch: 2 [37760/60000 (63%)]\tLoss: 0.348139\n",
      "Train Epoch: 2 [38400/60000 (64%)]\tLoss: 0.214242\n",
      "Train Epoch: 2 [39040/60000 (65%)]\tLoss: 0.295173\n",
      "Train Epoch: 2 [39680/60000 (66%)]\tLoss: 0.383386\n",
      "Train Epoch: 2 [40320/60000 (67%)]\tLoss: 0.365508\n",
      "Train Epoch: 2 [40960/60000 (68%)]\tLoss: 0.356169\n",
      "Train Epoch: 2 [41600/60000 (69%)]\tLoss: 0.312239\n",
      "Train Epoch: 2 [42240/60000 (70%)]\tLoss: 0.187796\n",
      "Train Epoch: 2 [42880/60000 (71%)]\tLoss: 0.231563\n",
      "Train Epoch: 2 [43520/60000 (72%)]\tLoss: 0.379417\n",
      "Train Epoch: 2 [44160/60000 (74%)]\tLoss: 0.372400\n"
     ]
    },
    {
     "name": "stdout",
     "output_type": "stream",
     "text": [
      "Train Epoch: 2 [44800/60000 (75%)]\tLoss: 0.452871\n",
      "Train Epoch: 2 [45440/60000 (76%)]\tLoss: 0.468590\n",
      "Train Epoch: 2 [46080/60000 (77%)]\tLoss: 0.414886\n",
      "Train Epoch: 2 [46720/60000 (78%)]\tLoss: 0.257487\n",
      "Train Epoch: 2 [47360/60000 (79%)]\tLoss: 0.295508\n",
      "Train Epoch: 2 [48000/60000 (80%)]\tLoss: 0.469889\n",
      "Train Epoch: 2 [48640/60000 (81%)]\tLoss: 0.353339\n",
      "Train Epoch: 2 [49280/60000 (82%)]\tLoss: 0.384801\n",
      "Train Epoch: 2 [49920/60000 (83%)]\tLoss: 0.330940\n",
      "Train Epoch: 2 [50560/60000 (84%)]\tLoss: 0.306109\n",
      "Train Epoch: 2 [51200/60000 (85%)]\tLoss: 0.454235\n",
      "Train Epoch: 2 [51840/60000 (86%)]\tLoss: 0.196801\n",
      "Train Epoch: 2 [52480/60000 (87%)]\tLoss: 0.389796\n",
      "Train Epoch: 2 [53120/60000 (88%)]\tLoss: 0.403365\n",
      "Train Epoch: 2 [53760/60000 (90%)]\tLoss: 0.286047\n",
      "Train Epoch: 2 [54400/60000 (91%)]\tLoss: 0.323003\n",
      "Train Epoch: 2 [55040/60000 (92%)]\tLoss: 0.342470\n",
      "Train Epoch: 2 [55680/60000 (93%)]\tLoss: 0.691424\n",
      "Train Epoch: 2 [56320/60000 (94%)]\tLoss: 0.317585\n",
      "Train Epoch: 2 [56960/60000 (95%)]\tLoss: 0.589922\n",
      "Train Epoch: 2 [57600/60000 (96%)]\tLoss: 0.381601\n",
      "Train Epoch: 2 [58240/60000 (97%)]\tLoss: 0.277513\n",
      "Train Epoch: 2 [58880/60000 (98%)]\tLoss: 0.208627\n",
      "Train Epoch: 2 [59520/60000 (99%)]\tLoss: 0.345174\n",
      "\n",
      "Test set: Avg. loss: 0.1246, Accuracy: 9618/10000 (96%)\n",
      "\n",
      "Train Epoch: 3 [0/60000 (0%)]\tLoss: 0.271314\n",
      "Train Epoch: 3 [640/60000 (1%)]\tLoss: 0.296940\n",
      "Train Epoch: 3 [1280/60000 (2%)]\tLoss: 0.393456\n",
      "Train Epoch: 3 [1920/60000 (3%)]\tLoss: 0.268238\n",
      "Train Epoch: 3 [2560/60000 (4%)]\tLoss: 0.389734\n",
      "Train Epoch: 3 [3200/60000 (5%)]\tLoss: 0.471815\n",
      "Train Epoch: 3 [3840/60000 (6%)]\tLoss: 0.368161\n",
      "Train Epoch: 3 [4480/60000 (7%)]\tLoss: 0.179223\n",
      "Train Epoch: 3 [5120/60000 (9%)]\tLoss: 0.233724\n",
      "Train Epoch: 3 [5760/60000 (10%)]\tLoss: 0.433574\n",
      "Train Epoch: 3 [6400/60000 (11%)]\tLoss: 0.356554\n",
      "Train Epoch: 3 [7040/60000 (12%)]\tLoss: 0.287818\n",
      "Train Epoch: 3 [7680/60000 (13%)]\tLoss: 0.373721\n",
      "Train Epoch: 3 [8320/60000 (14%)]\tLoss: 0.237435\n",
      "Train Epoch: 3 [8960/60000 (15%)]\tLoss: 0.412914\n",
      "Train Epoch: 3 [9600/60000 (16%)]\tLoss: 0.369202\n",
      "Train Epoch: 3 [10240/60000 (17%)]\tLoss: 0.416837\n",
      "Train Epoch: 3 [10880/60000 (18%)]\tLoss: 0.314849\n",
      "Train Epoch: 3 [11520/60000 (19%)]\tLoss: 0.274119\n",
      "Train Epoch: 3 [12160/60000 (20%)]\tLoss: 0.463893\n",
      "Train Epoch: 3 [12800/60000 (21%)]\tLoss: 0.280161\n",
      "Train Epoch: 3 [13440/60000 (22%)]\tLoss: 0.213457\n",
      "Train Epoch: 3 [14080/60000 (23%)]\tLoss: 0.201568\n",
      "Train Epoch: 3 [14720/60000 (25%)]\tLoss: 0.316025\n",
      "Train Epoch: 3 [15360/60000 (26%)]\tLoss: 0.198427\n",
      "Train Epoch: 3 [16000/60000 (27%)]\tLoss: 0.396945\n",
      "Train Epoch: 3 [16640/60000 (28%)]\tLoss: 0.261481\n",
      "Train Epoch: 3 [17280/60000 (29%)]\tLoss: 0.440733\n",
      "Train Epoch: 3 [17920/60000 (30%)]\tLoss: 0.263871\n",
      "Train Epoch: 3 [18560/60000 (31%)]\tLoss: 0.161978\n",
      "Train Epoch: 3 [19200/60000 (32%)]\tLoss: 0.580399\n",
      "Train Epoch: 3 [19840/60000 (33%)]\tLoss: 0.238613\n",
      "Train Epoch: 3 [20480/60000 (34%)]\tLoss: 0.305526\n",
      "Train Epoch: 3 [21120/60000 (35%)]\tLoss: 0.322290\n",
      "Train Epoch: 3 [21760/60000 (36%)]\tLoss: 0.281562\n",
      "Train Epoch: 3 [22400/60000 (37%)]\tLoss: 0.310395\n",
      "Train Epoch: 3 [23040/60000 (38%)]\tLoss: 0.405228\n",
      "Train Epoch: 3 [23680/60000 (39%)]\tLoss: 0.294508\n",
      "Train Epoch: 3 [24320/60000 (41%)]\tLoss: 0.326170\n",
      "Train Epoch: 3 [24960/60000 (42%)]\tLoss: 0.143495\n",
      "Train Epoch: 3 [25600/60000 (43%)]\tLoss: 0.266643\n",
      "Train Epoch: 3 [26240/60000 (44%)]\tLoss: 0.458645\n",
      "Train Epoch: 3 [26880/60000 (45%)]\tLoss: 0.259080\n",
      "Train Epoch: 3 [27520/60000 (46%)]\tLoss: 0.379853\n",
      "Train Epoch: 3 [28160/60000 (47%)]\tLoss: 0.235080\n",
      "Train Epoch: 3 [28800/60000 (48%)]\tLoss: 0.145104\n",
      "Train Epoch: 3 [29440/60000 (49%)]\tLoss: 0.199790\n",
      "Train Epoch: 3 [30080/60000 (50%)]\tLoss: 0.226950\n",
      "Train Epoch: 3 [30720/60000 (51%)]\tLoss: 0.314436\n",
      "Train Epoch: 3 [31360/60000 (52%)]\tLoss: 0.330636\n",
      "Train Epoch: 3 [32000/60000 (53%)]\tLoss: 0.297258\n",
      "Train Epoch: 3 [32640/60000 (54%)]\tLoss: 0.348840\n",
      "Train Epoch: 3 [33280/60000 (55%)]\tLoss: 0.365043\n",
      "Train Epoch: 3 [33920/60000 (57%)]\tLoss: 0.172932\n",
      "Train Epoch: 3 [34560/60000 (58%)]\tLoss: 0.321946\n",
      "Train Epoch: 3 [35200/60000 (59%)]\tLoss: 0.159569\n",
      "Train Epoch: 3 [35840/60000 (60%)]\tLoss: 0.325380\n",
      "Train Epoch: 3 [36480/60000 (61%)]\tLoss: 0.184340\n",
      "Train Epoch: 3 [37120/60000 (62%)]\tLoss: 0.413065\n",
      "Train Epoch: 3 [37760/60000 (63%)]\tLoss: 0.290285\n",
      "Train Epoch: 3 [38400/60000 (64%)]\tLoss: 0.183188\n",
      "Train Epoch: 3 [39040/60000 (65%)]\tLoss: 0.357483\n",
      "Train Epoch: 3 [39680/60000 (66%)]\tLoss: 0.130473\n",
      "Train Epoch: 3 [40320/60000 (67%)]\tLoss: 0.304679\n",
      "Train Epoch: 3 [40960/60000 (68%)]\tLoss: 0.299738\n",
      "Train Epoch: 3 [41600/60000 (69%)]\tLoss: 0.150753\n",
      "Train Epoch: 3 [42240/60000 (70%)]\tLoss: 0.168650\n",
      "Train Epoch: 3 [42880/60000 (71%)]\tLoss: 0.222462\n",
      "Train Epoch: 3 [43520/60000 (72%)]\tLoss: 0.259083\n",
      "Train Epoch: 3 [44160/60000 (74%)]\tLoss: 0.317458\n",
      "Train Epoch: 3 [44800/60000 (75%)]\tLoss: 0.232597\n",
      "Train Epoch: 3 [45440/60000 (76%)]\tLoss: 0.237896\n",
      "Train Epoch: 3 [46080/60000 (77%)]\tLoss: 0.286490\n",
      "Train Epoch: 3 [46720/60000 (78%)]\tLoss: 0.498503\n",
      "Train Epoch: 3 [47360/60000 (79%)]\tLoss: 0.363099\n",
      "Train Epoch: 3 [48000/60000 (80%)]\tLoss: 0.390184\n",
      "Train Epoch: 3 [48640/60000 (81%)]\tLoss: 0.215947\n",
      "Train Epoch: 3 [49280/60000 (82%)]\tLoss: 0.155518\n",
      "Train Epoch: 3 [49920/60000 (83%)]\tLoss: 0.485877\n",
      "Train Epoch: 3 [50560/60000 (84%)]\tLoss: 0.280365\n",
      "Train Epoch: 3 [51200/60000 (85%)]\tLoss: 0.248654\n",
      "Train Epoch: 3 [51840/60000 (86%)]\tLoss: 0.222929\n",
      "Train Epoch: 3 [52480/60000 (87%)]\tLoss: 0.219077\n",
      "Train Epoch: 3 [53120/60000 (88%)]\tLoss: 0.241247\n",
      "Train Epoch: 3 [53760/60000 (90%)]\tLoss: 0.405940\n",
      "Train Epoch: 3 [54400/60000 (91%)]\tLoss: 0.455059\n",
      "Train Epoch: 3 [55040/60000 (92%)]\tLoss: 0.293617\n",
      "Train Epoch: 3 [55680/60000 (93%)]\tLoss: 0.279191\n",
      "Train Epoch: 3 [56320/60000 (94%)]\tLoss: 0.307634\n",
      "Train Epoch: 3 [56960/60000 (95%)]\tLoss: 0.305576\n",
      "Train Epoch: 3 [57600/60000 (96%)]\tLoss: 0.167087\n",
      "Train Epoch: 3 [58240/60000 (97%)]\tLoss: 0.097629\n",
      "Train Epoch: 3 [58880/60000 (98%)]\tLoss: 0.202034\n",
      "Train Epoch: 3 [59520/60000 (99%)]\tLoss: 0.332305\n",
      "\n",
      "Test set: Avg. loss: 0.0914, Accuracy: 9714/10000 (97%)\n",
      "\n"
     ]
    }
   ],
   "source": [
    "test()\n",
    "for epoch in range(1, n_epochs + 1):\n",
    "  train(epoch)\n",
    "  test()"
   ]
  },
  {
   "cell_type": "markdown",
   "metadata": {},
   "source": [
    "# Evaluation"
   ]
  },
  {
   "cell_type": "code",
   "execution_count": 14,
   "metadata": {},
   "outputs": [
    {
     "data": {
      "text/plain": [
       "Text(0, 0.5, 'negative log likelihood loss')"
      ]
     },
     "execution_count": 14,
     "metadata": {},
     "output_type": "execute_result"
    },
    {
     "data": {
      "image/png": "[encoded data removed]",
      "text/plain": [
       "<Figure size 432x288 with 1 Axes>"
      ]
     },
     "metadata": {
      "needs_background": "light"
     },
     "output_type": "display_data"
    }
   ],
   "source": [
    "fig = plt.figure()\n",
    "plt.plot(train_counter, train_losses, color='blue')\n",
    "plt.scatter(test_counter, test_losses, color='red')\n",
    "plt.legend(['Train Loss', 'Test Loss'], loc='upper right')\n",
    "plt.xlabel('number of training examples seen')\n",
    "plt.ylabel('negative log likelihood loss')"
   ]
  },
  {
   "cell_type": "code",
   "execution_count": 15,
   "metadata": {},
   "outputs": [],
   "source": [
    "with torch.no_grad():\n",
    "  output = network(example_data)"
   ]
  },
  {
   "cell_type": "code",
   "execution_count": 16,
   "metadata": {},
   "outputs": [
    {
     "data": {
      "image/png": "[encoded data removed]",
      "text/plain": [
       "<Figure size 432x288 with 15 Axes>"
      ]
     },
     "metadata": {},
     "output_type": "display_data"
    }
   ],
   "source": [
    "fig = plt.figure()\n",
    "for i in range(rows*cols):\n",
    "  plt.subplot(rows,cols,i+1)\n",
    "  plt.tight_layout()\n",
    "  idx=np.random.randint(example_data.shape[0])\n",
    "  plt.imshow(example_data[idx][0], cmap='gray', interpolation='none')\n",
    "  plt.title(\"Prediction: {}\".format(\n",
    "    output.data.max(1, keepdim=True)[1][idx].item()))\n",
    "  plt.xticks([])\n",
    "  plt.yticks([])"
   ]
  },
  {
   "cell_type": "code",
   "execution_count": null,
   "metadata": {},
   "outputs": [],
   "source": []
  }
 ],
 "metadata": {
  "kernelspec": {
   "display_name": "Python 3",
   "language": "python",
   "name": "python3"
  },
  "language_info": {
   "codemirror_mode": {
    "name": "ipython",
    "version": 3
   },
   "file_extension": ".py",
   "mimetype": "text/x-python",
   "name": "python",
   "nbconvert_exporter": "python",
   "pygments_lexer": "ipython3",
   "version": "3.8.5"
  }
 },
 "nbformat": 4,
 "nbformat_minor": 4
}
