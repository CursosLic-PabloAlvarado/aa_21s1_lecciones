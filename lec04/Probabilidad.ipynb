{
 "cells": [
  {
   "cell_type": "code",
   "execution_count": null,
   "metadata": {},
   "outputs": [],
   "source": [
    "#!pip install opencv-python"
   ]
  },
  {
   "cell_type": "code",
   "execution_count": 1,
   "metadata": {},
   "outputs": [],
   "source": [
    "import numpy as np\n",
    "import matplotlib.pyplot as plt"
   ]
  },
  {
   "cell_type": "markdown",
   "metadata": {},
   "source": [
    "# Generalidades"
   ]
  },
  {
   "cell_type": "markdown",
   "metadata": {},
   "source": [
    "¿Cómo genero una matriz de números aleatorios entre 0 y 1, de tamaño 3x4?"
   ]
  },
  {
   "cell_type": "code",
   "execution_count": 3,
   "metadata": {},
   "outputs": [
    {
     "data": {
      "text/plain": [
       "array([[-9.25058119, -0.61140469, -3.66988686,  2.47502446],\n",
       "       [-9.06797978, -5.02722224, -7.63410743, -7.84522281],\n",
       "       [ 6.99441381,  0.44883895, -3.05279168,  4.51326617]])"
      ]
     },
     "execution_count": 3,
     "metadata": {},
     "output_type": "execute_result"
    }
   ],
   "source": [
    "M=np.random.uniform(-10,10,size=(3,4))\n",
    "\n",
    "M"
   ]
  },
  {
   "cell_type": "markdown",
   "metadata": {},
   "source": [
    "¿Cómo sumo todos los elementos de cada fila / columna?"
   ]
  },
  {
   "cell_type": "code",
   "execution_count": 5,
   "metadata": {},
   "outputs": [
    {
     "data": {
      "text/plain": [
       "array([-11.05684828, -29.57453226,   8.90372724])"
      ]
     },
     "execution_count": 5,
     "metadata": {},
     "output_type": "execute_result"
    }
   ],
   "source": [
    "np.sum(M,axis=1)"
   ]
  },
  {
   "cell_type": "code",
   "execution_count": 4,
   "metadata": {},
   "outputs": [
    {
     "data": {
      "text/plain": [
       "array([-11.32414716,  -5.18978799, -14.35678596,  -0.85693218])"
      ]
     },
     "execution_count": 4,
     "metadata": {},
     "output_type": "execute_result"
    }
   ],
   "source": [
    "np.sum(M,axis=0)"
   ]
  },
  {
   "cell_type": "markdown",
   "metadata": {},
   "source": [
    "# Generemos unos datos de una mezcla de gaussianas\n",
    "\n",
    "La idea es la siguiente: vamos a tener dos generadores de números aleatorios gaussianos, pero vamos a seleccionar entre ellos con una distribución binomial.\n"
   ]
  },
  {
   "cell_type": "code",
   "execution_count": 6,
   "metadata": {},
   "outputs": [],
   "source": [
    "# Probabilidad de elegir distribución 0 o 1\n",
    "phi=0.4\n",
    "\n",
    "# Media y desviación estándar de la distribución 0\n",
    "mu0=1\n",
    "sd0=0.2\n",
    "\n",
    "# Media y desviación estándar de la distribución 1\n",
    "mu1=2.5\n",
    "sd1=0.5"
   ]
  },
  {
   "cell_type": "code",
   "execution_count": 7,
   "metadata": {},
   "outputs": [],
   "source": [
    "numsamples=(10000,1)\n",
    "\n",
    "s0=np.random.normal(mu0,sd0,numsamples)\n",
    "s1=np.random.normal(mu1,sd1,numsamples)\n",
    "\n",
    "c=np.random.binomial(1,phi,numsamples)\n",
    "\n"
   ]
  },
  {
   "cell_type": "code",
   "execution_count": 8,
   "metadata": {},
   "outputs": [],
   "source": [
    "s = s0*(1-c) + s1*c"
   ]
  },
  {
   "cell_type": "code",
   "execution_count": 9,
   "metadata": {},
   "outputs": [
    {
     "data": {
      "text/plain": [
       "(array([8.16315371e-03, 1.74924722e-02, 6.99698890e-02, 1.71426228e-01,\n",
       "        3.25359984e-01, 6.05239539e-01, 8.33807843e-01, 1.09969342e+00,\n",
       "        1.23613470e+00, 1.04721600e+00, 7.84828921e-01, 4.19819334e-01,\n",
       "        2.65885578e-01, 1.14284152e-01, 8.74623612e-02, 9.09608556e-02,\n",
       "        8.86285260e-02, 1.29444295e-01, 1.43438272e-01, 1.67927733e-01,\n",
       "        2.21571315e-01, 2.47226941e-01, 2.57722424e-01, 2.84544215e-01,\n",
       "        2.99704358e-01, 3.12532171e-01, 3.14864500e-01, 3.24193819e-01,\n",
       "        3.21861489e-01, 2.62387084e-01, 2.35565293e-01, 1.74924722e-01,\n",
       "        1.63263074e-01, 1.55099921e-01, 1.11951822e-01, 8.39638667e-02,\n",
       "        5.36435815e-02, 3.96496037e-02, 3.14864500e-02, 1.74924722e-02,\n",
       "        1.39939778e-02, 8.16315371e-03, 8.16315371e-03, 3.49849445e-03,\n",
       "        5.83082408e-03, 0.00000000e+00, 0.00000000e+00, 0.00000000e+00,\n",
       "        0.00000000e+00, 1.16616482e-03]),\n",
       " array([0.2884152 , 0.37416637, 0.45991754, 0.54566871, 0.63141989,\n",
       "        0.71717106, 0.80292223, 0.8886734 , 0.97442458, 1.06017575,\n",
       "        1.14592692, 1.23167809, 1.31742927, 1.40318044, 1.48893161,\n",
       "        1.57468278, 1.66043395, 1.74618513, 1.8319363 , 1.91768747,\n",
       "        2.00343864, 2.08918982, 2.17494099, 2.26069216, 2.34644333,\n",
       "        2.4321945 , 2.51794568, 2.60369685, 2.68944802, 2.77519919,\n",
       "        2.86095037, 2.94670154, 3.03245271, 3.11820388, 3.20395505,\n",
       "        3.28970623, 3.3754574 , 3.46120857, 3.54695974, 3.63271092,\n",
       "        3.71846209, 3.80421326, 3.88996443, 3.9757156 , 4.06146678,\n",
       "        4.14721795, 4.23296912, 4.31872029, 4.40447147, 4.49022264,\n",
       "        4.57597381]),\n",
       " <BarContainer object of 50 artists>)"
      ]
     },
     "execution_count": 9,
     "metadata": {},
     "output_type": "execute_result"
    },
    {
     "data": {
      "image/png": "[encoded data removed]",
      "text/plain": [
       "<Figure size 432x288 with 1 Axes>"
      ]
     },
     "metadata": {
      "needs_background": "light"
     },
     "output_type": "display_data"
    }
   ],
   "source": [
    "plt.hist(s,bins=50,density=True)"
   ]
  },
  {
   "cell_type": "code",
   "execution_count": 10,
   "metadata": {},
   "outputs": [
    {
     "data": {
      "text/plain": [
       "[<matplotlib.lines.Line2D at 0x7f48e2f966d0>]"
      ]
     },
     "execution_count": 10,
     "metadata": {},
     "output_type": "execute_result"
    },
    {
     "data": {
      "image/png": "[encoded data removed]",
      "text/plain": [
       "<Figure size 432x288 with 1 Axes>"
      ]
     },
     "metadata": {
      "needs_background": "light"
     },
     "output_type": "display_data"
    }
   ],
   "source": [
    "# 1. Cómo extraer un vector con el histograma\n",
    "# 2. Cómo calcular la distribución acumulada\n",
    "\n",
    "h,e = np.histogram(s,bins=50,density=True)\n",
    "a = np.cumsum(h)\n",
    "a=a/a[-1]\n",
    "plt.step(e[:-1],a)"
   ]
  },
  {
   "cell_type": "markdown",
   "metadata": {},
   "source": [
    "# Teorema del límite central\n",
    "\n",
    "Para observar experimentalmente el teorema del límite central:\n",
    "\n",
    "1. Genere varios sets de datos distribuidos uniformemente entre -1 y 1\n",
    "   Use por ejemplo una matriz, donde cada fila contienen bastantes muestras \n",
    "2. Vaya incrementando paulatinamente el número de filas de la matriz de 1 a 100\n",
    "3. Para cada número de filas, calcule la suma a lo largo de las columnas \n",
    "4. Grafique el histograma en cada caso\n",
    "5. ¿Hacia qué converge la distribución?"
   ]
  },
  {
   "cell_type": "code",
   "execution_count": null,
   "metadata": {},
   "outputs": [],
   "source": []
  }
 ],
 "metadata": {
  "kernelspec": {
   "display_name": "Python 3",
   "language": "python",
   "name": "python3"
  },
  "language_info": {
   "codemirror_mode": {
    "name": "ipython",
    "version": 3
   },
   "file_extension": ".py",
   "mimetype": "text/x-python",
   "name": "python",
   "nbconvert_exporter": "python",
   "pygments_lexer": "ipython3",
   "version": "3.8.5"
  }
 },
 "nbformat": 4,
 "nbformat_minor": 4
}
