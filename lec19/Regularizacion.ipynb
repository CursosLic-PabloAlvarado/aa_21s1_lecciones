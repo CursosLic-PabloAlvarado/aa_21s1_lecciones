{
 "cells": [
  {
   "cell_type": "code",
   "execution_count": null,
   "metadata": {},
   "outputs": [],
   "source": [
    "%matplotlib notebook"
   ]
  },
  {
   "cell_type": "markdown",
   "metadata": {},
   "source": [
    "# Regularización\n",
    "## Regresión Lineal, Ridge, Lasso y ElasticNet\n",
    "\n",
    "En esta práctica aplicaremos los principios de regularización al set de datos escazu40, empleando para ello distintas extensiones de la regresión lineal (OLS)."
   ]
  },
  {
   "cell_type": "code",
   "execution_count": null,
   "metadata": {},
   "outputs": [],
   "source": [
    "import numpy as np\n",
    "import matplotlib.pyplot as plt\n",
    "\n",
    "from sklearn.linear_model import LinearRegression, Ridge, Lasso, ElasticNet\n",
    "from sklearn.preprocessing import StandardScaler\n",
    "from sklearn.metrics import mean_squared_error\n"
   ]
  },
  {
   "cell_type": "code",
   "execution_count": null,
   "metadata": {},
   "outputs": [],
   "source": [
    "## Cargue el archivo CSV\n",
    "data = np.genfromtxt(\"escazu40.csv\", delimiter=';')\n",
    "\n",
    "## Extraiga lo interesante\n",
    "areas = np.array(data[:,0])\n",
    "Y = np.array(data[:,3])[:,None]"
   ]
  },
  {
   "cell_type": "markdown",
   "metadata": {},
   "source": [
    "### ¡Nunca olvidar la normalización!"
   ]
  },
  {
   "cell_type": "code",
   "execution_count": null,
   "metadata": {},
   "outputs": [],
   "source": [
    "normalizer = StandardScaler()\n",
    "nareas = normalizer.fit_transform(areas[:,None])\n",
    "\n",
    "## Genere la matriz de diseño vector de diseño\n",
    "N=9  ## Orden de polinomios a usar\n",
    "## Aproveche el 'broadcasting' para elevar al rango de potencias\n",
    "X = nareas**np.arange(N+1)[:,None].T\n",
    "\n",
    "\n",
    "## Prepare algunas cosas para los plot\n",
    "minArea = np.min(areas)\n",
    "maxArea = np.max(areas)\n",
    "\n",
    "minPrecio = 0\n",
    "maxPrecio = np.max(Y)\n",
    "\n",
    "xplot = np.linspace(minArea,maxArea,200)[:,None]\n",
    "nxplot = normalizer.transform(xplot)\n",
    "Xplot = nxplot**np.arange(N+1)[:,None].T"
   ]
  },
  {
   "cell_type": "markdown",
   "metadata": {},
   "source": [
    "## Regresión lineal"
   ]
  },
  {
   "cell_type": "code",
   "execution_count": null,
   "metadata": {},
   "outputs": [],
   "source": [
    "lr = LinearRegression()\n",
    "\n",
    "# Entrene\n",
    "lr.fit(X,Y)\n",
    "\n",
    "# Prediga el mismo set para ver el error\n",
    "yp = lr.predict(X)\n",
    "\n",
    "# Muestre los coeficientes y el error\n",
    "print('Coeficientes: ',lr.coef_)\n",
    "print('Train MSE: %.2f' % mean_squared_error(Y,yp))\n",
    "\n",
    "plt.figure()\n",
    "y_lr=lr.predict(Xplot)\n",
    "plt.plot(xplot,y_lr,label='LinReg')\n",
    "plt.scatter(areas,Y,color='black',label='Training data')\n",
    "plt.legend(loc=\"upper left\")\n",
    "plt.ylim([minPrecio,maxPrecio])\n"
   ]
  },
  {
   "cell_type": "markdown",
   "metadata": {},
   "source": [
    "## Ridge\n",
    "\n",
    "Revisar la documentación en\n",
    "\n",
    "https://scikit-learn.org/stable/modules/generated/sklearn.linear_model.Ridge.html\n",
    "\n",
    "- ¿Qué tipo de regularización se usa aquí?\n",
    "- ¿Con qué parámetro se ajusta el término de regularización?"
   ]
  },
  {
   "cell_type": "code",
   "execution_count": null,
   "metadata": {},
   "outputs": [],
   "source": [
    "plt.figure()\n",
    "\n",
    "plt.scatter(areas,Y,color='black',label='Training data')\n",
    "plt.plot(xplot,y_lr,label='LinReg')\n",
    "\n",
    "for alpha in [0.1,1,10,100,1000,10000]:\n",
    "    rdg = Ridge(alpha=alpha)\n",
    "\n",
    "    # Entrene\n",
    "    rdg.fit(X,Y)\n",
    "\n",
    "    # Prediga el mismo set para ver el error\n",
    "    yrp = rdg.predict(X)\n",
    "\n",
    "    # Muestre los coeficientes y el error\n",
    "    print('Coeficientes: ',rdg.coef_)\n",
    "    print('Train MSE: %.2f' % mean_squared_error(Y,yrp))\n",
    "\n",
    "    y_rdg=rdg.predict(Xplot)\n",
    "    plt.plot(xplot,y_rdg,label=\"Ridge a={0}\".format(alpha))\n",
    "    \n",
    "plt.legend(loc=\"upper left\")\n",
    "plt.ylim([minPrecio,maxPrecio])"
   ]
  },
  {
   "cell_type": "markdown",
   "metadata": {},
   "source": [
    "Repita lo anterior con Lasso y ElasticNet"
   ]
  },
  {
   "cell_type": "markdown",
   "metadata": {},
   "source": [
    "# Lasso\n",
    "\n",
    "Revisar la documentación en\n",
    "\n",
    "https://scikit-learn.org/stable/modules/generated/sklearn.linear_model.Lasso.html\n",
    "\n",
    "¿Qué tipo de regularización se usa aquí?\n",
    "¿Con qué parámetro se ajusta el término de regularización?"
   ]
  },
  {
   "cell_type": "code",
   "execution_count": null,
   "metadata": {},
   "outputs": [],
   "source": [
    "# Do it yourself!"
   ]
  },
  {
   "cell_type": "markdown",
   "metadata": {},
   "source": [
    "# ElasticNet\n",
    "\n",
    "Revisar la documentación en\n",
    "\n",
    "https://scikit-learn.org/stable/modules/generated/sklearn.linear_model.ElasticNet.html\n",
    "\n",
    "¿Qué tipo de regularización se usa aquí?\n",
    "¿Con qué parámetros se ajustan los términos de regularización?"
   ]
  },
  {
   "cell_type": "code",
   "execution_count": null,
   "metadata": {},
   "outputs": [],
   "source": [
    "# Do it yourself!"
   ]
  }
 ],
 "metadata": {
  "kernelspec": {
   "display_name": "Python 3",
   "language": "python",
   "name": "python3"
  },
  "language_info": {
   "codemirror_mode": {
    "name": "ipython",
    "version": 3
   },
   "file_extension": ".py",
   "mimetype": "text/x-python",
   "name": "python",
   "nbconvert_exporter": "python",
   "pygments_lexer": "ipython3",
   "version": "3.8.5"
  }
 },
 "nbformat": 4,
 "nbformat_minor": 4
}
