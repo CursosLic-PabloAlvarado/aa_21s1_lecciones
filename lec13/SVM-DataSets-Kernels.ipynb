{
 "cells": [
  {
   "cell_type": "markdown",
   "metadata": {},
   "source": [
    "# SVM - Kernels and Dataset\n",
    "\n",
    "Original source: https://www.bogotobogo.com/python/scikit-learn/scikit_machine_learning_Support_Vector_Machines_SVM_2.php"
   ]
  },
  {
   "cell_type": "code",
   "execution_count": null,
   "metadata": {},
   "outputs": [],
   "source": [
    "import numpy as np\n",
    "\n",
    "import matplotlib.pyplot as plt\n",
    "from matplotlib.colors import ListedColormap\n",
    "\n",
    "from sklearn.svm import SVC"
   ]
  },
  {
   "cell_type": "code",
   "execution_count": null,
   "metadata": {},
   "outputs": [],
   "source": [
    "def plot_decision_regions(X, y, classifier, test_idx=None, resolution=0.02):\n",
    "   # setup marker generator and color map\n",
    "   markers = ('s', 'x', 'o', '^', 'v')\n",
    "   colors = ('red', 'blue', 'lightgreen', 'gray', 'cyan')\n",
    "   cmap = ListedColormap(colors[:len(np.unique(y))])\n",
    "\n",
    "   # plot the decision surface\n",
    "   x1_min, x1_max = X[:, 0].min() - 1, X[:, 0].max() + 1\n",
    "   x2_min, x2_max = X[:, 1].min() - 1, X[:, 1].max() + 1\n",
    "   xx1, xx2 = np.meshgrid(np.arange(x1_min, x1_max, resolution),\n",
    "   np.arange(x2_min, x2_max, resolution))\n",
    "   Z = classifier.predict(np.array([xx1.ravel(), xx2.ravel()]).T)\n",
    "   Z = Z.reshape(xx1.shape)\n",
    "   plt.contourf(xx1, xx2, Z, alpha=0.4, cmap=cmap)\n",
    "   plt.xlim(xx1.min(), xx1.max())\n",
    "   plt.ylim(xx2.min(), xx2.max())\n",
    "\n",
    "   # plot all samples\n",
    "   X_test, y_test = X[test_idx, :], y[test_idx]\n",
    "   for idx, cl in enumerate(np.unique(y)):\n",
    "      plt.scatter(x=X[y == cl, 0], y=X[y == cl, 1],\n",
    "               alpha=0.8, color=cmap(idx),\n",
    "               marker=markers[idx], label=cl)\n",
    "   # highlight test samples\n",
    "   if test_idx:\n",
    "      X_test, y_test = X[test_idx, :], y[test_idx]\n",
    "      plt.scatter(X_test[:, 0], X_test[:, 1], c='',\n",
    "               alpha=1.0, linewidth=1, marker='o',\n",
    "               s=55, label='test set')"
   ]
  },
  {
   "cell_type": "code",
   "execution_count": null,
   "metadata": {},
   "outputs": [],
   "source": [
    "# create xor dataset\n",
    "np.random.seed(0)\n",
    "X_xor = np.random.randn(200, 2)\n",
    "y_xor = np.logical_xor(X_xor[:, 0] > 0, X_xor[:, 1] > 0)\n",
    "y_xor = np.where(y_xor, 1, -1)\n",
    "\n",
    "# SVM\n",
    "svm = SVC(kernel='linear', random_state=0, gamma=0.10, C=10000.0)\n",
    "svm.fit(X_xor, y_xor)\n",
    "\n",
    "# draw decision boundary\n",
    "plot_decision_regions(X_xor, y_xor, classifier=svm)\n",
    "plt.legend(loc='upper left')\n",
    "plt.show()"
   ]
  },
  {
   "cell_type": "code",
   "execution_count": null,
   "metadata": {
    "scrolled": true
   },
   "outputs": [],
   "source": [
    "# create radial dataset\n",
    "np.random.seed(0)\n",
    "X_rad = np.random.randn(200, 2)\n",
    "y_rad = np.linalg.norm(X_rad,axis=1)>1.5\n",
    "y_rad = np.where(y_rad, 1, -1)\n",
    "\n",
    "# SVM\n",
    "svm = SVC(kernel='linear', random_state=0, gamma=0.10, C=10000.0)\n",
    "svm.fit(X_rad, y_rad)\n",
    "\n",
    "# draw decision boundary\n",
    "plot_decision_regions(X_rad, y_rad, classifier=svm)\n",
    "plt.legend(loc='upper left')\n",
    "plt.show()"
   ]
  },
  {
   "cell_type": "code",
   "execution_count": null,
   "metadata": {},
   "outputs": [],
   "source": [
    "# create linear dataset\n",
    "np.random.seed(0)\n",
    "w = np.array([0.83,0.5]).T\n",
    "X_lin = np.random.randn(200, 2)\n",
    "y_lin = np.matmul(X_lin,w) > 0\n",
    "y_lin = np.where(y_lin, 1, -1)\n",
    "\n",
    "# SVM\n",
    "svm = SVC(kernel='linear', random_state=0, gamma=0.10, C=10000.0)\n",
    "svm.fit(X_lin, y_lin)\n",
    "\n",
    "# draw decision boundary\n",
    "plot_decision_regions(X_lin, y_lin, classifier=svm)\n",
    "plt.legend(loc='upper left')\n",
    "plt.show()"
   ]
  },
  {
   "cell_type": "code",
   "execution_count": null,
   "metadata": {},
   "outputs": [],
   "source": [
    "# create cubic dataset\n",
    "np.random.seed(0)\n",
    "w = np.array([0,-0.1,0.5]).T\n",
    "X_cub = np.random.randn(200, 2)\n",
    "x = X_cub[:,0]\n",
    "X_ext=np.c_[x,np.power(x,2),np.power(x,3)]\n",
    "y_cub = (X_cub[:,1]-np.matmul(X_ext,w)) > 0\n",
    "y_cub = np.where(y_cub, 1, -1)\n",
    "\n",
    "# SVM\n",
    "svm = SVC(kernel='linear', random_state=0, gamma=0.10, C=10000.0)\n",
    "svm.fit(X_cub, y_cub)\n",
    "\n",
    "# draw decision boundary\n",
    "plot_decision_regions(X_cub, y_cub, classifier=svm)\n",
    "plt.legend(loc='upper left')\n",
    "plt.show()"
   ]
  },
  {
   "cell_type": "code",
   "execution_count": null,
   "metadata": {},
   "outputs": [],
   "source": []
  }
 ],
 "metadata": {
  "kernelspec": {
   "display_name": "Python 3",
   "language": "python",
   "name": "python3"
  },
  "language_info": {
   "codemirror_mode": {
    "name": "ipython",
    "version": 3
   },
   "file_extension": ".py",
   "mimetype": "text/x-python",
   "name": "python",
   "nbconvert_exporter": "python",
   "pygments_lexer": "ipython3",
   "version": "3.8.5"
  }
 },
 "nbformat": 4,
 "nbformat_minor": 4
}
