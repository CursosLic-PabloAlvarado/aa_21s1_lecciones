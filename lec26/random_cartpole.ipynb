{
 "cells": [
  {
   "cell_type": "markdown",
   "metadata": {},
   "source": [
    "# Random Cartpole\n",
    "\n",
    "Original environment: https://github.com/openai/gym/blob/master/gym/envs/classic_control/cartpole.py\n",
    "\n",
    "###  Observation:\n",
    "\n",
    "        Type: Box(4)\n",
    "        \n",
    "        |----|----------------------|---------------------|--------------------|\n",
    "        |Num |Observation           | Min                 | Max                |\n",
    "        |----|----------------------|---------------------|--------------------|\n",
    "        |0   |Cart Position         | -4.8                | 4.8                |\n",
    "        |1   |Cart Velocity         | -Inf                | Inf                |\n",
    "        |2   |Pole Angle            | -0.418 rad (-24 deg)| 0.418 rad (24 deg) |\n",
    "        |3   |Pole Angular Velocity | -Inf                | Inf                |\n",
    "        |----|----------------------|---------------------|--------------------|\n",
    "        \n",
    "### Actions:\n",
    "        Type: Discrete(2)\n",
    "        Num   Action\n",
    "        0     Push cart to the left\n",
    "        1     Push cart to the right\n",
    "        Note: The amount the velocity that is reduced or increased is not\n",
    "        fixed; it depends on the angle the pole is pointing. This is because\n",
    "        the center of gravity of the pole increases the amount of energy needed\n",
    "        to move the cart underneath it\n",
    "### Reward:\n",
    "        Reward is 1 for every step taken, including the termination step\n"
   ]
  },
  {
   "cell_type": "code",
   "execution_count": null,
   "metadata": {},
   "outputs": [],
   "source": [
    "%matplotlib inline"
   ]
  },
  {
   "cell_type": "code",
   "execution_count": null,
   "metadata": {},
   "outputs": [],
   "source": [
    "import gym\n",
    "env = gym.make(\"CartPole-v1\")"
   ]
  },
  {
   "cell_type": "code",
   "execution_count": null,
   "metadata": {},
   "outputs": [],
   "source": [
    "observation = env.reset()\n",
    "print(observation)"
   ]
  },
  {
   "cell_type": "code",
   "execution_count": null,
   "metadata": {},
   "outputs": [],
   "source": [
    "step=0\n",
    "filtered_step=0\n",
    "filter=0.9\n",
    "\n",
    "for _ in range(1000):\n",
    "  env.render()\n",
    "  action = env.action_space.sample() # your agent here (this takes random actions)\n",
    "  observation, reward, done, info = env.step(action)\n",
    "  step += 1\n",
    "    \n",
    "  # Observation:\n",
    "  #      Num  Observation               Min                     Max\n",
    "  #      0    Cart Position             -4.8                    4.8\n",
    "  #      1    Cart Velocity             -Inf                    Inf\n",
    "  #      2    Pole Angle                -0.418 rad (-24 deg)    0.418 rad (24 deg)\n",
    "  #      3    Pole Angular Velocity     -Inf                    Inf\n",
    " \n",
    "  # print(observation)\n",
    "  \n",
    "  if done:\n",
    "    filtered_step = filter*filtered_step + (1.0-filter)*step\n",
    "    print(\"Steps: {0}  Filtered steps: {1}\".format(step,filtered_step))\n",
    "    observation = env.reset()\n",
    "    step=0\n",
    "env.close()\n"
   ]
  },
  {
   "cell_type": "code",
   "execution_count": null,
   "metadata": {},
   "outputs": [],
   "source": []
  }
 ],
 "metadata": {
  "kernelspec": {
   "display_name": "Python 3",
   "language": "python",
   "name": "python3"
  },
  "language_info": {
   "codemirror_mode": {
    "name": "ipython",
    "version": 3
   },
   "file_extension": ".py",
   "mimetype": "text/x-python",
   "name": "python",
   "nbconvert_exporter": "python",
   "pygments_lexer": "ipython3",
   "version": "3.8.5"
  }
 },
 "nbformat": 4,
 "nbformat_minor": 4
}
