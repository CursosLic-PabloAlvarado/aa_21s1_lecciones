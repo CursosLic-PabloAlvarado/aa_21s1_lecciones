{
 "cells": [
  {
   "cell_type": "markdown",
   "metadata": {},
   "source": [
    "# Random Cartpole\n",
    "\n",
    "Original environment: https://github.com/openai/gym/blob/master/gym/envs/classic_control/cartpole.py\n",
    "\n",
    "###  Observation:\n",
    "\n",
    "Type: Box(4)\n",
    "\n",
    "| Num | Observation | Min | Max |\n",
    "|:---:|:-----------:|:---:|:---:|\n",
    "| 0   | Cart Position|-4.8|4.8|\n",
    "| 1   | Cart Velocity|-Inf|Inf|\n",
    "| 2   | Pole Angle   | -0.418 rad (-24 deg)|0.418 rad (24 deg)|\n",
    "| 3   | Pole Angular Velocity|-Inf|Inf|\n",
    "        \n",
    "        \n",
    "### Actions:\n",
    "\n",
    "Type: Discrete(2)\n",
    "\n",
    "| Num | Action                  |\n",
    "|:---:|:-----------------------:|\n",
    "|  0  |  Push cart to the left  |\n",
    "|  1  |  Push cart to the right |\n",
    "\n",
    "Note: The amount the velocity that is reduced or increased is not\n",
    "fixed; it depends on the angle the pole is pointing. This is because\n",
    "the center of gravity of the pole increases the amount of energy needed\n",
    "to move the cart underneath it\n",
    "### Reward:\n",
    "        Reward is 1 for every step taken, including the termination step\n"
   ]
  },
  {
   "cell_type": "code",
   "execution_count": null,
   "metadata": {},
   "outputs": [],
   "source": [
    "%matplotlib inline"
   ]
  },
  {
   "cell_type": "code",
   "execution_count": null,
   "metadata": {},
   "outputs": [],
   "source": [
    "# Do you already have these?\n",
    "#!pip install gym pyglet"
   ]
  },
  {
   "cell_type": "code",
   "execution_count": null,
   "metadata": {},
   "outputs": [],
   "source": [
    "import gym\n",
    "import numpy as np\n",
    "from sklearn.linear_model import LinearRegression"
   ]
  },
  {
   "cell_type": "code",
   "execution_count": null,
   "metadata": {},
   "outputs": [],
   "source": [
    "env = gym.make(\"CartPole-v1\")"
   ]
  },
  {
   "cell_type": "code",
   "execution_count": null,
   "metadata": {},
   "outputs": [],
   "source": [
    "observation = env.reset()\n",
    "print(observation)"
   ]
  },
  {
   "cell_type": "code",
   "execution_count": null,
   "metadata": {},
   "outputs": [],
   "source": [
    "## This should project s into a higher space, or itself\n",
    "def phi(s):\n",
    "  return s"
   ]
  },
  {
   "cell_type": "code",
   "execution_count": null,
   "metadata": {},
   "outputs": [],
   "source": [
    "def state_reward(s,env):\n",
    "    \"\"\" Compute the reward for a given state\n",
    "    \n",
    "        The environment does not directly provide a way to \n",
    "        compute the reward for a state, but from the cartpole\n",
    "        code we can deduce how it's done by default.\n",
    "    \"\"\"\n",
    "    x, x_dot, theta, theta_dot = s\n",
    "       \n",
    "    done = bool(\n",
    "        x < -env.x_threshold\n",
    "        or x > env.x_threshold\n",
    "        or theta < -env.theta_threshold_radians\n",
    "        or theta > env.theta_threshold_radians\n",
    "    )\n",
    "    \n",
    "    if not done:\n",
    "        if np.abs(x) < env.x_threshold/10 and np.abs(theta_dot) < 0.1:\n",
    "            reward = 0.0\n",
    "        else:\n",
    "            reward = 1.0\n",
    "    else:\n",
    "        reward = -1.0\n",
    "        \n",
    "    return reward\n",
    "    \n"
   ]
  },
  {
   "cell_type": "markdown",
   "metadata": {},
   "source": [
    "# Learn the fitted value function"
   ]
  },
  {
   "cell_type": "code",
   "execution_count": null,
   "metadata": {},
   "outputs": [],
   "source": [
    "env.reset()\n",
    "k=1 # cartpole seems deterministic... 1 should work\n",
    "q=np.array([0,0])\n",
    "gamma=0.99\n",
    "epsilon=0.0005\n",
    "max_iterations=100\n",
    "\n",
    "# Total number of random state samples\n",
    "m = 15000\n",
    "\n",
    "# Sample m states\n",
    "states=np.random.uniform(-1,1,size=(m,4))\n",
    "states = states * [4.8,2,0.4,1] # Magic numbers from the env ranges\n",
    "\n",
    "yi=np.zeros((m,1))\n",
    "\n",
    "# Linear regression used for fitting the value function\n",
    "reg=LinearRegression(normalize=True)\n",
    "\n",
    "# Force an initial dummy estimation of the parameters\n",
    "reg.fit(states,yi) ## With yi=0 then the coef_=0\n",
    "\n",
    "# Container for the Following states\n",
    "sprime=np.ndarray((k,4))\n",
    "\n",
    "iteration=0\n",
    "converged=False\n",
    "while not converged:\n",
    "    states=np.random.uniform(-1,1,size=(m,4))\n",
    "    states = states * [4.8,2,0.4,1] # Magic numbers from the env ranges\n",
    "    \n",
    "    for i in np.arange(m):  # for all initial random states\n",
    "        s=list(states[i,:])\n",
    "        \n",
    "        for a in [0,1]:   # for all actions         \n",
    "            for l in np.arange(k): # for all samples from the start state\n",
    "                env.state=s # Force the initial state on the simulator\n",
    "                state_next, reward, done, info = env.step(a)\n",
    "                if done:\n",
    "                    env.reset()\n",
    "                sprime[l,:]=np.array(state_next)\n",
    "                \n",
    "            q[a]=state_reward(s,env) + gamma*np.mean(reg.predict(sprime))\n",
    "     \n",
    "        if q[0]==q[1]:\n",
    "            yi[i]=np.random.randint(2)\n",
    "        else:\n",
    "            yi[i]=np.argmax(q)\n",
    "                    \n",
    "    lastCoefs=reg.coef_.copy()\n",
    "    \n",
    "    #print(states)\n",
    "    #print(yi)\n",
    "    \n",
    "    reg.fit(states,yi)\n",
    "       \n",
    "    coefDist = np.linalg.norm(lastCoefs-reg.coef_)        \n",
    "    print(iteration,\"Distance: \",coefDist,flush=True)\n",
    "\n",
    "    iteration=iteration+1\n",
    "    converged= coefDist < epsilon or iteration>=max_iterations\n",
    "\n",
    "    \n",
    "    \n",
    "print(\"Learning finished\")"
   ]
  },
  {
   "cell_type": "markdown",
   "metadata": {},
   "source": [
    "# Using the learned value function"
   ]
  },
  {
   "cell_type": "code",
   "execution_count": null,
   "metadata": {},
   "outputs": [],
   "source": [
    "max_episodes=100\n",
    "episode = 0\n",
    "\n",
    "average_steps = 0\n",
    "filter=0.9\n",
    "\n",
    "while episode < max_episodes:\n",
    "\n",
    "    episode += 1\n",
    "    state = env.reset()\n",
    "\n",
    "    step=0\n",
    "    while True:\n",
    "        step += 1\n",
    "        s=env.state ## Save current state\n",
    "        \n",
    "        for a in [0,1]:   # for all actions    \n",
    "            env.state=s # Reset the current state\n",
    "            state_next, reward, done, info = env.step(a)\n",
    "            if done:\n",
    "               env.reset()\n",
    "\n",
    "            sprime=np.array(state_next).reshape(1,4)\n",
    "\n",
    "            q[a]=reg.predict(sprime)\n",
    "\n",
    "        # Find out which action was predicted best\n",
    "        if q[0]==q[1]:\n",
    "            a=np.random.randint(2)\n",
    "        else:\n",
    "            a=np.argmax(q)\n",
    "\n",
    "        env.state=s; # Restore the current state\n",
    "        env.render(); # Show it\n",
    "\n",
    "        # And apply the selected action\n",
    "        state_next, reward, done, info = env.step(a)\n",
    "        \n",
    "        if done:\n",
    "            average_steps = average_steps*filter + (1.0-filter)*step\n",
    "            print(\"Episode: \" + str(episode) +\n",
    "                  \", step: \" + str(step) +\n",
    "                  \", average steps: \" + str(average_steps))\n",
    "\n",
    "            break\n"
   ]
  },
  {
   "cell_type": "code",
   "execution_count": null,
   "metadata": {},
   "outputs": [],
   "source": []
  }
 ],
 "metadata": {
  "kernelspec": {
   "display_name": "Python 3",
   "language": "python",
   "name": "python3"
  },
  "language_info": {
   "codemirror_mode": {
    "name": "ipython",
    "version": 3
   },
   "file_extension": ".py",
   "mimetype": "text/x-python",
   "name": "python",
   "nbconvert_exporter": "python",
   "pygments_lexer": "ipython3",
   "version": "3.8.5"
  }
 },
 "nbformat": 4,
 "nbformat_minor": 4
}
