{
 "cells": [
  {
   "cell_type": "markdown",
   "metadata": {},
   "source": [
    "# Random Pendulum\n",
    "\n",
    "Original environment: https://github.com/openai/gym/blob/master/gym/envs/classic_control/pendulum.py\n",
    "\n",
    "###  Observation:\n",
    "\n",
    "        Type: Box(4)\n",
    "        \n",
    "        |----|----------------------|---------------------|--------------------|\n",
    "        |Num |Observation           | Min                 | Max                |\n",
    "        |----|----------------------|---------------------|--------------------|\n",
    "        |0   |Cos angle             | -1                  | 1                  |\n",
    "        |1   |Sin angle             | -1                  | 1                  |\n",
    "        |3   |Angular Velocity      | -8                  | 8                  |\n",
    "        |----|----------------------|---------------------|--------------------|\n",
    "        \n",
    "### Actions:\n",
    "\n",
    "        Float value from -2 to 2, representing the amount of left or right force on the pendulum.\n",
    "        \n",
    "### Reward:\n",
    "\n",
    "        The precise equation for reward is: -theta2 + 0.1*theta_dt2 +0.001*action2.\n",
    "\n",
    "Theta is normalized between -pi and pi. Therefore, the lowest cost is -(π2 + 0.1*82 + 0.001*22) = -16.2736044, and the highest cost is 0. In essence, the goal is to remain at zero angle (vertical), with the least rotational velocity, and the least effort.\n"
   ]
  },
  {
   "cell_type": "code",
   "execution_count": 1,
   "metadata": {},
   "outputs": [],
   "source": [
    "%matplotlib inline"
   ]
  },
  {
   "cell_type": "code",
   "execution_count": 2,
   "metadata": {},
   "outputs": [
    {
     "name": "stderr",
     "output_type": "stream",
     "text": [
      "/home/palvarado/anaconda3/lib/python3.8/site-packages/gym/logger.py:30: UserWarning: \u001b[33mWARN: Box bound precision lowered by casting to float32\u001b[0m\n",
      "  warnings.warn(colorize('%s: %s'%('WARN', msg % args), 'yellow'))\n"
     ]
    }
   ],
   "source": [
    "import gym\n",
    "env = gym.make(\"Pendulum-v0\")"
   ]
  },
  {
   "cell_type": "code",
   "execution_count": 3,
   "metadata": {},
   "outputs": [
    {
     "name": "stdout",
     "output_type": "stream",
     "text": [
      "[-0.72845638 -0.68509219  0.21798885]\n"
     ]
    }
   ],
   "source": [
    "observation = env.reset()\n",
    "print(observation)"
   ]
  },
  {
   "cell_type": "code",
   "execution_count": 4,
   "metadata": {},
   "outputs": [
    {
     "name": "stdout",
     "output_type": "stream",
     "text": [
      "Action: [0.15999058]]5]\r"
     ]
    }
   ],
   "source": [
    "for _ in range(1000):\n",
    "  env.render()\n",
    "  action = env.action_space.sample() # your agent here (this takes random actions)\n",
    "  observation, reward, done, info = env.step(action)\n",
    "\n",
    "  print(\"Action: {0}\".format(action),end='\\r')\n",
    "\n",
    "  \n",
    "  if done:\n",
    "    observation = env.reset()\n",
    "env.close()\n"
   ]
  },
  {
   "cell_type": "code",
   "execution_count": null,
   "metadata": {},
   "outputs": [],
   "source": []
  }
 ],
 "metadata": {
  "kernelspec": {
   "display_name": "Python 3",
   "language": "python",
   "name": "python3"
  },
  "language_info": {
   "codemirror_mode": {
    "name": "ipython",
    "version": 3
   },
   "file_extension": ".py",
   "mimetype": "text/x-python",
   "name": "python",
   "nbconvert_exporter": "python",
   "pygments_lexer": "ipython3",
   "version": "3.8.5"
  }
 },
 "nbformat": 4,
 "nbformat_minor": 4
}
