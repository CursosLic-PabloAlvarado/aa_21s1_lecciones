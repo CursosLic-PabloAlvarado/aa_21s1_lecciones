{
 "cells": [
  {
   "cell_type": "code",
   "execution_count": null,
   "metadata": {},
   "outputs": [],
   "source": [
    "#!pip install tensorflow-gpu==2.0.0b1\n",
    "%load_ext tensorboard\n",
    "%matplotlib inline"
   ]
  },
  {
   "cell_type": "markdown",
   "metadata": {},
   "source": [
    "# Diagnosis with an auto-encoder\n",
    "\n",
    "based on Arvin Singh Kushwaha https://towardsdatascience.com/how-to-make-an-autoencoder-2f2d99cd5103"
   ]
  },
  {
   "cell_type": "code",
   "execution_count": null,
   "metadata": {
    "colab": {
     "base_uri": "https://localhost:8080/",
     "height": 357
    },
    "id": "DTx2WHBdDuC1",
    "outputId": "1f53f30b-0e4d-4c9d-8316-cb38e297a28a"
   },
   "outputs": [],
   "source": [
    "import tensorflow as tf\n",
    "print(tf.__version__)\n",
    "\n",
    "from tensorflow.keras.datasets import mnist\n",
    "from tensorflow.keras.layers import Dense, Input, Flatten,\\\n",
    "                                    Reshape, LeakyReLU,\\\n",
    "                                    Activation, Dropout\n",
    "from tensorflow.keras.models import Model, Sequential\n",
    "from matplotlib import pyplot as plt\n",
    "from IPython import display # If using IPython, Colab or Jupyter\n",
    "import numpy as np\n",
    "\n",
    "import datetime\n",
    "\n",
    "from tensorflow.keras.callbacks import TensorBoard"
   ]
  },
  {
   "cell_type": "code",
   "execution_count": null,
   "metadata": {
    "colab": {
     "base_uri": "https://localhost:8080/",
     "height": 269
    },
    "id": "L0XybKJyEJIR",
    "outputId": "74546198-dd8b-425f-e12f-4cf4455f9e04"
   },
   "outputs": [],
   "source": [
    "(x_train_all, y_train_all), (x_test_all, y_test_all) = mnist.load_data()\n",
    "\n",
    "x_train_all = x_train_all/255.0\n",
    "x_test_all = x_test_all/255.0\n",
    "\n",
    "## Don't use everything: just a fraction of all available data\n",
    "idx=np.random.choice(x_train_all.shape[0],int(0.1*x_train_all.shape[0]))\n",
    "\n",
    "x_train = x_train_all[idx,:,:]\n",
    "y_train = y_train_all[idx]\n",
    "\n",
    "x_test = x_test_all\n",
    "y_test = y_test_all\n",
    "\n",
    "print(\"Training data with {0} samples\".format(x_train.shape[0]))\n",
    "print(\"Validation data with {0} samples\".format(x_test.shape[0]))\n",
    "\n",
    "# Plot image data from x_train\n",
    "plt.imshow(x_train[0], cmap = \"gray\")\n",
    "plt.show()"
   ]
  },
  {
   "cell_type": "code",
   "execution_count": null,
   "metadata": {
    "id": "-tm9gLzMDw6S"
   },
   "outputs": [],
   "source": [
    "LATENT_SIZE = 16\n",
    "encoder = Sequential([\n",
    "    Flatten(input_shape = (28, 28)), # 784D\n",
    "    Dense(128),\n",
    "    LeakyReLU(),\n",
    "    #Dropout(0.5),\n",
    "    Dense(64),\n",
    "    LeakyReLU(),\n",
    "    #Dropout(0.5),\n",
    "    Dense(LATENT_SIZE, activation=\"sigmoid\"),\n",
    "])"
   ]
  },
  {
   "cell_type": "code",
   "execution_count": null,
   "metadata": {
    "id": "x8EF9fQXDzSW"
   },
   "outputs": [],
   "source": [
    "decoder = Sequential([\n",
    "    Dense(64, input_shape = (LATENT_SIZE,)),\n",
    "    LeakyReLU(),\n",
    "    #Dropout(0.5),\n",
    "    Dense(128),\n",
    "    LeakyReLU(),\n",
    "    Dense(784),\n",
    "    Activation(\"sigmoid\"),\n",
    "    Reshape((28, 28))\n",
    "])"
   ]
  },
  {
   "cell_type": "code",
   "execution_count": null,
   "metadata": {
    "id": "GOil9ltcD0si"
   },
   "outputs": [],
   "source": [
    "img = Input(shape = (28, 28))\n",
    "latent_vector = encoder(img)\n",
    "output = decoder(latent_vector)\n",
    "model = Model(inputs = img, outputs = output)\n",
    "model.compile(\"nadam\", loss = \"MeanAbsoluteError\", metrics=['Accuracy','Precision','Recall'])"
   ]
  },
  {
   "cell_type": "code",
   "execution_count": null,
   "metadata": {},
   "outputs": [],
   "source": [
    "log_dir = \"logs/\" + datetime.datetime.now().strftime(\"%Y%m%d-%H%M%S\")\n",
    "\n",
    "## TensorBoard Callback\n",
    "tcb = TensorBoard(log_dir=log_dir, histogram_freq=1)\n",
    "\n",
    "EPOCHS = 30\n",
    "\n",
    "history_callback = model.fit(x_train, x_train, \n",
    "                             batch_size = 64, epochs=EPOCHS,\n",
    "                             validation_data=(x_test, x_test),\n",
    "                             callbacks=[tcb])"
   ]
  },
  {
   "cell_type": "code",
   "execution_count": null,
   "metadata": {},
   "outputs": [],
   "source": [
    "%tensorboard --logdir logs/"
   ]
  },
  {
   "cell_type": "code",
   "execution_count": null,
   "metadata": {},
   "outputs": [],
   "source": [
    "score = model.evaluate(x_test, x_test)\n",
    "print('Test score:', score)\n",
    "\n",
    "#acc = history_callback.history['accuracy']\n",
    "loss = history_callback.history['loss']\n",
    "\n",
    "#val_acc = history_callback.history['val_accuracy']\n",
    "val_loss = history_callback.history['val_loss']\n",
    "\n",
    "fig, (ax2) = plt.subplots(1,figsize=(8,6))\n",
    "#ax1.plot(acc,label=\"Training Accuracy\")\n",
    "#ax1.plot(val_acc,label=\"Validation Accuracy\")\n",
    "ax2.plot(loss,label=\"Training Loss\")\n",
    "ax2.plot(val_loss,label=\"Validation Loss\")\n",
    "\n",
    "ax2.set_xlabel('epochs')\n",
    "#ax1.legend()\n",
    "ax2.legend()\n",
    "plt.show()"
   ]
  },
  {
   "cell_type": "code",
   "execution_count": null,
   "metadata": {
    "colab": {
     "base_uri": "https://localhost:8080/",
     "height": 644
    },
    "id": "ewXzkdbPD3HL",
    "outputId": "951fedce-b5e8-487a-af6a-85ca30b2083a",
    "scrolled": true
   },
   "outputs": [],
   "source": [
    "#Only do plotting if you have IPython, Jupyter, or using Colab\n",
    "for epoch in range(EPOCHS):\n",
    "    fig, axs = plt.subplots(4, 4, figsize=(4,4))\n",
    "    rand = x_test[np.random.randint(0, 10000, 16)].reshape((4, 4, 1, 28, 28))\n",
    "    \n",
    "    #display.clear_output() # If you imported display from IPython\n",
    "    \n",
    "    for i in range(4):\n",
    "        for j in range(4):\n",
    "            axs[i, j].imshow(model.predict(rand[i, j])[0], cmap = \"gray\")\n",
    "            axs[i, j].axis(\"off\")\n",
    "    \n",
    "    plt.subplots_adjust(wspace = 0, hspace = 0)\n",
    "    plt.show()\n",
    "    print(\"-----------\", \"EPOCH\", epoch, \"-----------\")\n",
    "    model.fit(x_train, x_train, batch_size = 64)"
   ]
  },
  {
   "cell_type": "code",
   "execution_count": null,
   "metadata": {},
   "outputs": [],
   "source": []
  }
 ],
 "metadata": {
  "accelerator": "GPU",
  "colab": {
   "collapsed_sections": [],
   "name": "Autoencoder Tutorial",
   "provenance": []
  },
  "kernelspec": {
   "display_name": "Python 3 (ipykernel)",
   "language": "python",
   "name": "python3"
  },
  "language_info": {
   "codemirror_mode": {
    "name": "ipython",
    "version": 3
   },
   "file_extension": ".py",
   "mimetype": "text/x-python",
   "name": "python",
   "nbconvert_exporter": "python",
   "pygments_lexer": "ipython3",
   "version": "3.9.7"
  }
 },
 "nbformat": 4,
 "nbformat_minor": 1
}
